{
  "cells": [
    {
      "cell_type": "code",
      "execution_count": null,
      "metadata": {
        "collapsed": false
      },
      "outputs": [],
      "source": [
        "%matplotlib inline"
      ]
    },
    {
      "cell_type": "markdown",
      "metadata": {},
      "source": [
        "\nPlotting Time Series of Hurricane Max. WS and Min. MSLP\n==========================================\n\nThis example uses plots the hurricane tracks and intensity estimated from tc-tracker as well as the BestTrack data.\n"
      ]
    },
    {
      "cell_type": "code",
      "execution_count": null,
      "metadata": {
        "collapsed": false
      },
      "outputs": [],
      "source": [
        "from __future__ import print_function\nimport Ngl, Nio\nimport pandas as pd\nimport numpy as np\nimport xarray as xr\nimport netCDF4 as nc\nfrom netCDF4 import Dataset\nimport matplotlib.pyplot as plt\nimport math\n#wgrib2 GFSPRS.GrbF72 -match '^(656|685|686|):' -grib GFSPRS.GrbF72_subset\n#comp=\"15p2\"\ncomp=\"v16beta\"\nnpfull =51\npostfile=nc.MFDataset(\"/home/Xia.Sun/CIME_OUT/ufs-mrweather-app-workflow_\"+comp+\".c768/2019071100/GFSPRS.GrbF72_subset.nc\")\n#sfcuv=nc.MFDataset('/home/Xia.Sun/CIME_OUT/ufs-mrweather-app-workflow_15p2.c768//2019071100/GFSPRS.GrbF72_subset.nc')\nmslp=postfile[\"MSLET_meansealevel\"][0,:,:]*0.01\nsfugrd=postfile[\"UGRD_10maboveground\"][0,:,:]*1.9438445\nsfvgrd=postfile[\"VGRD_10maboveground\"][0,:,:]*1.9438445\nsfcws=((sfugrd**2+sfvgrd**2)**(1/2.0)) # in knots\n#sfu10m=sfugrd*1.9438445\n#reposat=nc.MFDataset('/glade/u/home/xiasun/scratch/FV3_RT/repo_sat/fv3_gfdlmp_repro/dynf015.nc')\n#gfsana=Nio.open_file('/glade/u/home/xiasun/scratch/FV3_RT/repo_sat/fv3_gfdlmp_repro/dynf015.nc',\"r\")\n\n#tmp2m=fv3[\"t2m_analysis\"][:,:]\n#tmp2m=fv3[\"TMP_2maboveground\"][0,:,:]\n#tmp2mF=(tmp2m-273.15)*9/5+32\ngridlat=postfile[\"latitude\"][:]\ngridlon=postfile[\"longitude\"][:]\n#hgt=fv3[\"HGT_500mb\"][0,:,:]*0.1\n#ugrd=fv3[\"UGRD_500mb\"][0,:,:]\n#vgrd=fv3[\"VGRD_500mb\"][0,:,:]\n#absv=fv3[\"ABSV_500mb\"][0,:,:]*1e5\n#print(ugrd)\nlat=gridlat\nlon=gridlon\nmaxlat=lat.max()\nminlat=lat.min()\nmaxlon=lon.max()\nminlon=lon.min()\n#print(gridlat)\n#print(absv.shape)\n\nwks_type = \"png\"\nwks = Ngl.open_wks(wks_type,\"MSLP_2019101400_Barry_\"+comp)\n\nmpres = Ngl.Resources()\n#mpres.mpShapeMode = \"FreeAspect\"\n#mpres.mpProjection=\"LambertConformal\"#\"CylindricalEquidistant\"\n#mpres.mpLambertParallel1F = 33.0 #        ; two parallels\n#mpres.mpLambertParallel2F = 45.0\n#mpres.mpLambertMeridianF  = -95.0 #       ; central meridian\n#mpres.vpXF        = 0.00\n#mpres.vpYF        = 0.94\n#mpres.vpWidthF    = 0.42\n#mpres.vpHeightF   = 0.42\nmpres.nglMaximize = False\nmpres.nglFrame     = False\n#gray_index = Ngl.new_color(wks,0.7,0.7,0.7)\n#cyan_index = Ngl.new_color(wks,0.5,0.9,0.9)\n#mpres.mpFillAreaSpecifiers  = [\"Water\",\"Land\"]\n#mpres.mpSpecifiedFillColors = [cyan_index,gray_index]\n\nmpres.mpFillOn               = True\n#mpres.mpFillDrawOrder        = \"PostDraw\"\nmpres.mpGridAndLimbOn = True\nmpres.mpOceanFillColor       = \"Transparent\"\nmpres.mpLandFillColor        = \"Gray90\"#\"Gray90\"\nmpres.mpInlandWaterFillColor = \"Transparent\"\n#mpres.mpInlandWaterFillColor = \"Transparent\"\n#mpres.mpLimitMode        = \"Corners\"\nmpres.mpLimitMode        = \"LatLon\"\nmpres.mpMaxLonF = -75#maxlon\t\nmpres.mpMaxLatF =40#maxlat\nmpres.mpMinLonF = -100#minlon\nmpres.mpMinLatF = 20#minlat\n#mpres.mpLeftCornerlatF =10\n#mpres.mpLeftCornerlonF = -140\n#mpres.mpRightCornerlatF =60\n#mpres.mpRightCornerlonF = -60\nmpres.mpDataBaseVersion     = \"MediumRes\"\nmpres.mpOutlineBoundarySets = \"USStates\"\nmpres.mpUSStateLineThicknessF=2 \nmpres.mpGeophysicalLineThicknessF= 2\nmpres.mpCountyLineThicknessF=2\nmpres.mpNationalLineThicknessF=2\nmpres.mpGeophysicalLineColor=\"black\"\nmpres.mpNationalLineColor=\"black\"\nmpres.mpUSStateLineColor=\"gray60\"\nmpres.mpGridLineDashPattern=11\nmpres.mpGridLineColor=\"grey60\"\n#wks1 = Ngl.open_wks(wks_type,\"Fast_Sat_F\")\ncnres                 = Ngl.Resources()\n#cnres.cnLevelSelectionMode=\"ExplicitLevels\"# Contour resources\n#cnres.cnFillColors=[\"Transparent\",\"(/1.,.9607843,.8/)\",\"(/1,0.9019608,0.4392157/)\",\"(/1,.8,.2/)\",\"(/1.,0.6862745,0.2/)\",\"(/1.,0.6,0.2/)\",\"(/1.,0.43529412,0.2, /)\",\"(/1.,0.33333334,0./)\",\"(/0.9019608,0.15686275,0.11764706/)\",\"(/0.78431374,0.11764706,0.07843138/)\"]\n#cnres.cnLevels    = [9,12,15,18,21,24,27,30]\ncnres.wkColorMap=\"WhiteBlueGreenYellowRed\" #\"cmap\"\n#Ngl.set_values(wks,cnres)\n#cmap = Ngl.retrieve_colormap(wks)\n#print(cmap)\ncnres.cnFillOn        = True\n#cnres.cnFillPalette   = cmap#\"sunshine_9lev\"#\"temp\"#\"NCV_bright_white\"#\"matlab_jet\"#\"BlueYellowRed\" #\"sunshine_9lev\"#\"\"#BlueYellowRed\"      # New in PyNGL 1.5.0\n\ncnres.cnLinesOn       = False\ncnres.cnLineLabelsOn  = False\n#cnres.cnLevelSelectionMode = \"ManualLevels\"\n\n#cnres.cnMinLevelValF = 6#-45\n#cnres.cnMaxLevelValF = 28#55\n#cnres.cnLevelSpacingF = 2\n#cnres.cnFillColors=[\"Transparent\"]\n#cnres.cnLevelSpacingF=(cbarmax-0)/10\n#cnres.nglMaximize = True\n#cnres.nglDraw     = False\ncnres.nglFrame    = False\n# Labelbar resource\n#cnres.trYMaxF = 25\ncnres.tiXAxisString = \"Lon\"\ncnres.tiYAxisString = \"Lat\"\n\ncnres.lbOrientation   = \"horizontal\"\ncnres.lbTitleString = \"kts\"\ncnres.lbTitlePosition=\"Bottom\"\ncnres.lbTitleFontHeightF=\"0.015\"\n# Scalar field resources\ncnres.sfXArray        = lon[:]\ncnres.sfYArray        = lat[:]\n# Map resources\n#cnres.mpProjection   =  \"LambertConformal\"\n#cnres.mpFillOn               = False\n#cnres.mpFillDrawOrder        = \"PostDraw\"\n#cnres.mpGridAndLimbOn = False\n#cnres.mpLandFillColor        = \"Transparent\"\n#cnres.mpOceanFillColor       = \"Transparent\"\n#cnres.mpInlandWaterFillColor = \"Transparent\"\n#cnres.mpLimitMode        = \"LatLon\"\n#cnres.mpMaxLonF = -66.9513812#maxlon\t\n#cnres.mpMaxLatF = 49.3457868#maxlat\n#cnres.mpMinLonF = -124.7844079#minlon\n#cnres.mpMinLatF = 24.7433915#minlat\n#cnres.mpLeftCornerlatF =30\n#cnres.mpLeftCornerlonF = -120\n#cnres.mpRightCornerlatF =50\n#cnres.mpRightCornerlonF = -110\n#cnres.mpDataBaseVersion     = \"MediumRes\"\n#cnres.mpOutlineBoundarySets = \"USStates\"#AllBoundaries\"#USStates\"#\"AllBoundaries\"\ncnres0=cnres\ncnres0.lbLabelFontHeightF = 0.012\ncnres0.pmLabelBarHeightF =0.1\ncnres0.pmLabelBarWidthF=0.6\ncnres0.cnFillPalette=\"WhiteBlueGreenYellowRed\"\ncnres0.cnLevelSelectionMode = \"ManualLevels\"\ncnres0.cnMinLevelValF = 20#30\ncnres0.cnMaxLevelValF = 45\n#mapres=cnres\nmpres.tiMainString = \"ufsv1.0.0_ccpp(\"+comp+\"): MSLP (hPa) and 10-m wind (knots)  ~C~Initialized: 0000Z 11 Jul 2019 | Valid: 0000Z 14 Jul 2019\"#\"{} ({}) at {:.2f} hPa with fast_sat\".format(clwmr.long_name,clwmr.units,vpfull)\nmpres.tiMainFontHeightF=0.012\nmpres.tiMainPosition = \"Center\"\n#mpres.tiMainJust=\"topleft\"\n#contour = Ngl.contour_map(wks,absv[:,:],cnres0)\n\ncnres1= Ngl.Resources()\ncnres1.nglDraw=False\ncnres1.nglFrame    = False\ncnres1.cnFillOn    = True\ncnres1.cnLinesOn = True\ncnres1.sfXArray        = lon[:]\ncnres1.sfYArray        = lat[:]\ncnres1.cnLineThicknessF = 3.0\ncnres1.cnFillPalette=\"WhiteBlueGreenYellowRed\"\ncnres1.cnLevelSelectionMode = \"ManualLevels\"\ncnres1.cnMinLevelValF = 996#-45\ncnres1.cnMaxLevelValF = 1024\ncnres1.cnLevelSpacingF=2\ncnres1.cnInfoLabelOn   = False\n\ncnres1.cnLineLabelBackgroundColor= \"white\"#\"Transparent\" \ncnres1.cnLineLabelDensityF=1.5\n#cnres1.cnLineLabelPlacementMode = \"computed\"\ncnres1.cnLineLabelFontHeightF=0.008\n#cnres1.cnConstFLabelFontHeightF\n#cnLineLabe\n#cnres1.cnMinLevelValF = 6#-45\n#cnres1.cnMaxLevelValF = 28#55\n#cnres1=cnres\n#cnres1.tiMainString = \"{} ({}) at {:.2f} hPa with no fast_sat\".format(clwmr.long_name,clwmr.units,vpfull)\n\n#cnres1.tiMainString = \"Temperature at\"+npfull+\" Layer with no fast_sat\"\n#contour1 = Ngl.contour_map(wks1,noclwmr[:,:],cnres1)\n#mpres = Ngl.Resources()\n#mpres.mpShapeMode = \"FreeAspect\"\n#mpres.vpXF        = 0.06\n#mpres.vpYF        = 0.94\n#mpres.vpWidthF    = 0.42\n#mpres.vpHeightF   = 0.42\n\n#mpres.nglFrame     = False\n#gray_index = Ngl.new_color(wks,0.7,0.7,0.7)\n#cyan_index = Ngl.new_color(wks,0.5,0.9,0.9)\n#mpres.mpFillAreaSpecifiers  = [\"Water\",\"Land\"]\n#mpres.mpSpecifiedFillColors = [cyan_index,gray_index]\n\n#mpres.mpFillOn               = False\n#cnres.mpFillDrawOrder        = \"PostDraw\"\n#mpres.mpGridAndLimbOn = False\n#mpres.mpOceanFillColor       = \"Transparent\"\n#mpres.mpLandFillColor        = \"Transparent\"\n#mpres.mpInlandWaterFillColor = \"Transparent\"\n#mpres.mpLimitMode        = \"LatLon\"\n#mpres.mpMaxLonF = -66.9513812#maxlon\t\n#mpres.mpMaxLatF = 49.3457868#maxlat\n#mpres.mpMinLonF = -124.7844079#minlon\n#mpres.mpMinLatF = 24.7433915#minlat\n#cnres.mpLeftCornerlatF =30\n#cnres.mpLeftCornerlonF = -120\n#cnres.mpRightCornerlatF =50\n#cnres.mpRightCornerlonF = -110\n#mpres.mpDataBaseVersion     = \"MediumRes\"\n#mpres.mpOutlineBoundarySets = \"USStates\"\n\n\n#map=Ngl.map(wks,res=mpres)\nresources= cnres\nresources.nglDraw     = False\nresources.nglFrame    = False\nresources.vcMinFracLengthF = 1\nresources.vcRefMagnitudeF  =10\nresources.vcRefLengthF     = 0.025\nresources.vcMinDistanceF = 0.025\nresources.vcMonoLineArrowColor  = True   # Draw vectors in color.\nresources.vfXArray=lon[:]\nresources.vfYArray=lat[:]\nresources.vcGlyphStyle = \"WindBarb\"\n#vc = Ngl.vector_map(wks,ugrd,vgrd,resources)\nmap=Ngl.map(wks,mpres)\n#pabsv=Ngl.contour(wks,sfcws[:,:],cnres0)\npwb=Ngl.vector(wks,sfugrd,sfvgrd,resources)\nphgt=Ngl.contour(wks,mslp[:,:],cnres1)\n#Ngl.overlay(map,pabsv)\nNgl.overlay(map,phgt)\nNgl.overlay(map,pwb)\nNgl.draw(map)\n#Ngl.wmsetp(\"col\",2)\n#Ngl.wmsetp(\"wbs\",.2)\n#Ngl.wmbarbmap(wks,lat[:],lon[:],ugrd[:,:],vgrd[:,:])\nNgl.frame(wks)\n#cmap = Ngl.retrieve_colormap(wks)\n\n#del resources\nNgl.end()"
      ]
    }
  ],
  "metadata": {
    "kernelspec": {
      "display_name": "Python 3",
      "language": "python",
      "name": "python3"
    },
    "language_info": {
      "codemirror_mode": {
        "name": "ipython",
        "version": 3
      },
      "file_extension": ".py",
      "mimetype": "text/x-python",
      "name": "python",
      "nbconvert_exporter": "python",
      "pygments_lexer": "ipython3",
      "version": "3.7.6"
    }
  },
  "nbformat": 4,
  "nbformat_minor": 0
}